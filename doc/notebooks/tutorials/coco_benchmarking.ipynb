{
    "cells": [
        {
            "cell_type": "markdown",
            "metadata": {},
            "source": [
                "\n",
                "# Introduction"
            ]
        },
        {
            "cell_type": "markdown",
            "metadata": {},
            "source": [
                "PaGMO has tools to benchmark algorithms (COCO benchmarking) and generate different plots using post processing tools provided.\n",
                "\n",
                "Any PyGMO.algorithm can be benchmarked using any pagmo::problem as the benchmark. Currently only the problems which are implemented in PaGMO (c++) are supported (currently problems implemented in PyGMO are not supported).\n",
                "\n",
                "**Note:** the pagmo::problem to be used as benchmark should have at least one best_x defined which can be done using `problem.set_best_x` and only minimization problems are currently supported.\n",
                "\n",
                "Let's see how to benchmark PSO using the ackley problem as a benchmark\n"
            ]
        },
        {
            "cell_type": "markdown",
            "metadata": {},
            "source": [
                "# Benchmarking using COCO benchmark"
            ]
        },
        {
            "cell_type": "code",
            "execution_count": null,
            "metadata": {
                "collapsed": false
            },
            "outputs": [],
            "source": [
                "import PyGMO as pg\n",
                "for i in range(1, 11):\n",
                "    prob = pg.problem.ackley(10)\n",
                "    benchmark_prob = pg.util.coco.benchmark(prob, \"./pso\", \"PSO\", i)\n",
                "    pop = pg.population(benchmark_prob, 50)\n",
                "    alg = pg.algorithm.pso(2000)\n",
                "    pop = alg.evolve(pop)\n",
                "    benchmark_prob.finalize(pop)\n"
            ]
        },
        {
            "cell_type": "markdown",
            "metadata": {},
            "source": [
                "Here we create an instance of ackley with dimensions = 10.\n",
                "\n",
                "we create a instance of coco.benchmark with instance of problem to be used as a benchmark (ackley here), the directory (which will be create if necessary) where the log files need to written, the name of the algorithm (PSO here), the instance ID (which can be used to seperate different runs of the same algorithm) and optional comments.\n",
                "\n",
                "coco.benchmark is itself a pagmo::problem which keeps track of function evaluations and calls the objective function of the problem which has been given to it.\n",
                "\n",
                "the algorithm PSO is evolved for 2000 generations for each instance and the performance log data is written to log files in `./pso` directory when we call `benchmark_prob.finalize()`.\n",
                "\n",
                "here we run 10 instances of PSO for 2000 generations each with ackley (dimension = 10) as the benchmark and the performance log data is written to `./pso` directory. \n"
            ]
        },
        {
            "cell_type": "markdown",
            "metadata": {},
            "source": [
                "# Using coco post processing tools"
            ]
        },
        {
            "cell_type": "markdown",
            "metadata": {},
            "source": [
                "Generating empirical cumulative distribution function figures"
            ]
        },
        {
            "cell_type": "code",
            "execution_count": null,
            "metadata": {
                "collapsed": false
            },
            "outputs": [],
            "source": [
                "import PyGMO as pg\n",
                "ds = pg.util.coco.postproc.load(\"./pso\")\n",
                "pg.util.coco.postproc.pprldistr.main(ds)\n"
            ]
        },
        {
            "cell_type": "markdown",
            "metadata": {},
            "source": [
                "We assume that the benchmarking log data has been written to `./pso` directory \n",
                "\n",
                "pprldistr.main will write the empirical cumulative distribution function figures by default in the current folder\n",
                "see http://coco.lri.fr/COCOdoc/figtables.html#module-bbob_pproc.pprldistr for more details on usage.\n"
            ]
        },
        {
            "cell_type": "markdown",
            "metadata": {},
            "source": [
                "Now let us compare the performance of PSO as the dimensions varies.\n",
                "\n"
            ]
        },
        {
            "cell_type": "code",
            "execution_count": null,
            "metadata": {
                "collapsed": false
            },
            "outputs": [],
            "source": [
                "import PyGMO as pg\n",
                "for dim in [10,20,30, 40]:\n",
                "    for i in range(1, 15):\n",
                "         prob = pg.problem.ackley(dim)\n",
                "         benchmark_prob = pg.util.coco.benchmark(prob, \"./pso\", \"PSO\", i)\n",
                "         pop = pg.population(benchmark_prob, 50)\n",
                "         alg = pg.algorithm.pso(2000)\n",
                "         pop = alg.evolve(pop)\n",
                "         benchmark_prob.finalize(pop)\n",
                "\n",
                "ds = pg.util.coco.postproc.load(\"./pso\")\n",
                "pg.util.coco.postproc.pprldistr.main(ds)\n"
            ]
        },
        {
            "cell_type": "markdown",
            "metadata": {},
            "source": [
                "This will generate 3 plots (one for each dimension).\n",
                "\n",
                "for generating performance scaling figures.\n",
                "the following has to be done.\n"
            ]
        },
        {
            "cell_type": "code",
            "execution_count": null,
            "metadata": {
                "collapsed": false
            },
            "outputs": [],
            "source": [
                "ds = pg.util.coco.postproc.load(\"./pso\")\n",
                "pg.util.coco.postproc.ppfigdim.main(ds)\n"
            ]
        },
        {
            "cell_type": "markdown",
            "metadata": {},
            "source": [
                "Let us now compare performance of two algorithms (PSO and DE).\n",
                "\n"
            ]
        },
        {
            "cell_type": "code",
            "execution_count": null,
            "metadata": {
                "collapsed": false
            },
            "outputs": [],
            "source": [
                "import PyGMO as pg\n",
                "for dim in [10,20,30, 40]:\n",
                "    for i in range(1, 15):\n",
                "         prob = pg.problem.ackley(dim)\n",
                "         benchmark_prob = pg.util.coco.benchmark(prob, \"./pso\", \"PSO\", i)\n",
                "         pop = pg.population(benchmark_prob, 50)\n",
                "         alg = pg.algorithm.pso(2000)\n",
                "         pop = alg.evolve(pop)\n",
                "         benchmark_prob.finalize(pop)\n",
                "\n",
                "for dim in [10,20,30, 40]:\n",
                "    for i in range(1, 15):\n",
                "         prob = pg.problem.ackley(dim)\n",
                "         benchmark_prob = pg.util.coco.benchmark(prob, \"./de\", \"DE\", i)\n",
                "         pop = pg.population(benchmark_prob, 50)\n",
                "         alg = pg.algorithm.de(2000)\n",
                "         pop = alg.evolve(pop)\n",
                "         benchmark_prob.finalize(pop)\n",
                "\n",
                "ds0 = pg.util.coco.postproc.load(\"./pso\")\n",
                "ds1 = pg.util.coco.postproc.load(\"./de\")\n",
                "\n",
                "pg.util.coco.postproc.pprldistr2.main(ds0, ds1)\n"
            ]
        },
        {
            "cell_type": "markdown",
            "metadata": {},
            "source": [
                "The above code will generate empirical cumulative distribution function figures comparing performance of PSO and DE\n",
                "\n",
                "Similarly all other available post processing tools can be used. Please see http://coco.lri.fr/COCOdoc/figtables.html for more details.\n",
                "\n",
                "**Note:** All the coco post processing tools are not available in PyGMO.\n"
            ]
        }
    ],
    "metadata": {
        "kernelspec": {
            "display_name": "Python 2",
            "language": "python",
            "name": "python2"
        },
        "language_info": {
            "codemirror_mode": {
                "name": "ipython",
                "version": 2
            },
            "file_extension": ".py",
            "mimetype": "text/x-python",
            "name": "python",
            "nbconvert_exporter": "python",
            "pygments_lexer": "ipython2",
            "version": "2.7.5"
        }
    },
    "nbformat": 4,
    "nbformat_minor": 0
}